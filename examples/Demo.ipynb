{
 "cells": [
  {
   "cell_type": "code",
   "execution_count": null,
   "metadata": {},
   "outputs": [],
   "source": [
    "%matplotlib inline\n",
    "%config InlineBackend.figure_formats = {'svg',}\n",
    "import numpy as np\n",
    "import matplotlib.pyplot as plt"
   ]
  },
  {
   "cell_type": "code",
   "execution_count": null,
   "metadata": {
    "collapsed": false,
    "jupyter": {
     "outputs_hidden": false
    }
   },
   "outputs": [],
   "source": [
    "from bspline import *\n",
    "import bspline.plotting as splt"
   ]
  },
  {
   "cell_type": "markdown",
   "metadata": {},
   "source": [
    "A few utility plotting functions for this demo."
   ]
  },
  {
   "cell_type": "code",
   "execution_count": null,
   "metadata": {},
   "outputs": [],
   "source": [
    "def get_info(spline):\n",
    "    return repr(spline)"
   ]
  },
  {
   "cell_type": "code",
   "execution_count": null,
   "metadata": {},
   "outputs": [],
   "source": [
    "def plot_spline(s):\n",
    "    splt.plot(s, with_knots=True)\n",
    "    plt.title(get_info(s))\n",
    "    ax = plt.gca()\n",
    "    ax.grid(lw=.5, ls='-', alpha=.2)"
   ]
  },
  {
   "cell_type": "code",
   "execution_count": null,
   "metadata": {},
   "outputs": [],
   "source": [
    "def plot_ex(ex):\n",
    "    s = BSpline(**ex)\n",
    "    plot_spline(s)"
   ]
  },
  {
   "cell_type": "markdown",
   "metadata": {},
   "source": [
    "## Spline examples"
   ]
  },
  {
   "cell_type": "code",
   "execution_count": null,
   "metadata": {
    "collapsed": false,
    "jupyter": {
     "outputs_hidden": false
    }
   },
   "outputs": [],
   "source": [
    "ex1 = {\n",
    "'control_points': np.array([[0.,2], [3,3], [3,5], [0,6]]),\n",
    "'knots': np.array([3.,3.,3.,4.,4.,4.])\n",
    "}\n",
    "\n",
    "plt.subplot(1,2,1)\n",
    "b = BSpline(ex1['control_points'])\n",
    "splt.plot(b)\n",
    "plt.title(\"Bézier\")\n",
    "plt.axis('equal')\n",
    "plt.subplot(1,2,2)\n",
    "b_ = BSpline(**ex1)\n",
    "splt.plot(b_)\n",
    "plt.title(\"BSpline\")\n",
    "plt.axis('equal')\n"
   ]
  },
  {
   "cell_type": "code",
   "execution_count": null,
   "metadata": {
    "collapsed": false,
    "jupyter": {
     "outputs_hidden": false
    }
   },
   "outputs": [],
   "source": [
    "e=.1\n",
    "axis=(1-e,2+e,2-e,9+e)\n",
    "ex2 = {\n",
    "'control_points': np.array([[1.,2], [2,3], [2,5], [1,6], [1,9]]),\n",
    "'knots': np.array([1.,2.,3.,4.,5.,6.,7.])\n",
    "}\n",
    "#plot_ex(ex2)\n",
    "b2 = BSpline(**ex2)\n",
    "plt.subplot(1,3,1)\n",
    "splt.plot(b2, with_knots=True)\n",
    "plt.title(\"Bspline\")\n",
    "plt.axis(axis)\n",
    "for i,s in enumerate(b2):\n",
    "    plt.subplot(1,3,i+2)\n",
    "    splt.plot(bspline.get_single_bspline(s), with_knots=True)\n",
    "    plt.title('Spline {}'.format(i+1))\n",
    "    plt.axis(axis)\n",
    "b2(4.)\n",
    "#list(b2.generate_points())[1]"
   ]
  },
  {
   "cell_type": "markdown",
   "metadata": {},
   "source": [
    "### Continuous but not differentiable"
   ]
  },
  {
   "cell_type": "code",
   "execution_count": null,
   "metadata": {
    "collapsed": false,
    "jupyter": {
     "outputs_hidden": false
    }
   },
   "outputs": [],
   "source": [
    "ex3 = {\n",
    "'control_points': np.array([[-4.,7], [-2,2], [5,6], [1,6], [1,9], [4,11], [7,9]]),\n",
    "'knots': np.array([1.,2.,3.,4.,4.,4.,5.,6.,6.])\n",
    "}\n",
    "plot_ex(ex3)\n",
    "plt.axis('equal')\n",
    "s3 = BSpline(**ex3)\n",
    "print([s.interval for s in s3])"
   ]
  },
  {
   "cell_type": "markdown",
   "metadata": {},
   "source": [
    "### Discontinuous cubic"
   ]
  },
  {
   "cell_type": "code",
   "execution_count": null,
   "metadata": {
    "collapsed": false,
    "jupyter": {
     "outputs_hidden": false
    }
   },
   "outputs": [],
   "source": [
    "ex4 = {\n",
    "'control_points': np.array([[5.,2], [10,3], [10,5], [5,6], [5,9], [10,11], [10,9], [8,8]]),\n",
    "'knots': np.array([1.,2.,3.,4.,4.,4.,4.,5.,6.,6.])\n",
    "}\n",
    "plot_ex(ex4)\n",
    "plt.axis('equal')\n",
    "s4 = BSpline(**ex4)\n",
    "print([s.interval for s in s4])"
   ]
  },
  {
   "cell_type": "markdown",
   "metadata": {},
   "source": [
    "### Discontinous quadratic"
   ]
  },
  {
   "cell_type": "code",
   "execution_count": null,
   "metadata": {
    "collapsed": false,
    "jupyter": {
     "outputs_hidden": false
    }
   },
   "outputs": [],
   "source": [
    "ex_d2 = {\n",
    "'control_points': np.array([[5.,2], [10,3], [5,6], [5,9], [10,11],  [8,8]]),\n",
    "'knots': np.array([1.,1.,2.,2.,2.,3.,3.,])\n",
    "}\n",
    "plot_ex(ex_d2)\n",
    "s_d2 = BSpline(**ex_d2)\n",
    "plt.axis('equal')\n",
    "plt.figure()\n",
    "from bspline.knots import Knots\n",
    "k = Knots(s_d2.knots, s_d2.degree)\n",
    "for i in range(6):\n",
    "    splt.plot(k.get_basis(i))\n",
    "print([s.interval for s in s_d2])"
   ]
  },
  {
   "cell_type": "code",
   "execution_count": null,
   "metadata": {
    "collapsed": false,
    "jupyter": {
     "outputs_hidden": false
    }
   },
   "outputs": [],
   "source": [
    "pretzel = {'control_points': np.array([[-0.8 ,  1.5 ],\n",
    "       [-0.5 ,  1.5 ],\n",
    "       [ 1.  , -0.5 ],\n",
    "       [ 1.7 ,  1.25],\n",
    "       [-1.7 ,  1.25],\n",
    "       [-1.  , -0.5 ],\n",
    "       [ 0.5 ,  1.5 ],\n",
    "       [ 0.8 ,  1.5 ]]),\n",
    "'knots': np.array([1.,1.,1.,1.2,1.4,1.6,1.8,2.,2.,2.])}\n",
    "plot_ex(pretzel)\n",
    "plt.axis('equal')\n",
    "spretzel = BSpline(**pretzel)"
   ]
  },
  {
   "cell_type": "markdown",
   "metadata": {},
   "source": [
    "## Basis plots"
   ]
  },
  {
   "cell_type": "code",
   "execution_count": null,
   "metadata": {},
   "outputs": [],
   "source": [
    "from bspline.knots import *"
   ]
  },
  {
   "cell_type": "code",
   "execution_count": null,
   "metadata": {
    "collapsed": false,
    "jupyter": {
     "outputs_hidden": false
    }
   },
   "outputs": [],
   "source": [
    "w = [ 0, 0, 0, 1/3, 2/3, 1, 1, 1]\n",
    "wk = Knots(w, degree=3)\n",
    "for k in range(6):\n",
    "    splt.plot(wk.get_basis(k), with_knots=True)"
   ]
  },
  {
   "cell_type": "code",
   "execution_count": null,
   "metadata": {
    "collapsed": false,
    "jupyter": {
     "outputs_hidden": false
    }
   },
   "outputs": [],
   "source": [
    "for i in range(3,8):\n",
    "    k = get_basis_knots(np.arange(i)/(i-1))\n",
    "    s = k.get_basis()\n",
    "    splt.plot(s, with_knots=True)"
   ]
  }
 ],
 "metadata": {
  "anaconda-cloud": {},
  "kernelspec": {
   "display_name": "Python 3",
   "language": "python",
   "name": "python3"
  },
  "language_info": {
   "codemirror_mode": {
    "name": "ipython",
    "version": 3
   },
   "file_extension": ".py",
   "mimetype": "text/x-python",
   "name": "python",
   "nbconvert_exporter": "python",
   "pygments_lexer": "ipython3",
   "version": "3.8.5"
  }
 },
 "nbformat": 4,
 "nbformat_minor": 4
}
