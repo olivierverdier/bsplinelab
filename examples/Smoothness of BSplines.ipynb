{
 "cells": [
  {
   "cell_type": "code",
   "execution_count": null,
   "metadata": {},
   "outputs": [],
   "source": [
    "%matplotlib inline"
   ]
  },
  {
   "cell_type": "code",
   "execution_count": null,
   "metadata": {},
   "outputs": [],
   "source": [
    "import numpy as np\n",
    "import matplotlib.pyplot as plt"
   ]
  },
  {
   "cell_type": "code",
   "execution_count": null,
   "metadata": {},
   "outputs": [],
   "source": [
    "rng = np.random.default_rng()"
   ]
  },
  {
   "cell_type": "code",
   "execution_count": null,
   "metadata": {},
   "outputs": [],
   "source": [
    "from bspline import BSpline\n",
    "import bspline.plotting as splt\n",
    "import bspline.geometry"
   ]
  },
  {
   "cell_type": "code",
   "execution_count": null,
   "metadata": {
    "collapsed": false,
    "jupyter": {
     "outputs_hidden": false
    }
   },
   "outputs": [],
   "source": [
    "pts_ = rng.standard_normal([5,3])\n",
    "norms = np.sqrt(np.sum(np.square(pts_), axis=1))\n",
    "pts = pts_/norms.reshape(-1,1)\n",
    "print(pts)"
   ]
  },
  {
   "cell_type": "code",
   "execution_count": null,
   "metadata": {
    "collapsed": false,
    "jupyter": {
     "outputs_hidden": false
    }
   },
   "outputs": [],
   "source": [
    "#s3 = 1/np.sqrt(3)\n",
    "#pts = np.array([[1.,0,0], [0,0,1.], [0,1.,0], [-s3,s3,s3], [-1,0,0]])"
   ]
  },
  {
   "cell_type": "code",
   "execution_count": null,
   "metadata": {
    "collapsed": false,
    "jupyter": {
     "outputs_hidden": false
    }
   },
   "outputs": [],
   "source": [
    "geometry = bspline.geometry.Sphere()\n",
    "b = BSpline(knots=np.arange(7, dtype=float), \n",
    "            control_points=pts, \n",
    "            geometry=geometry)\n",
    "print(b)"
   ]
  },
  {
   "cell_type": "markdown",
   "metadata": {},
   "source": [
    "Plot of the second derivative at the joint"
   ]
  },
  {
   "cell_type": "code",
   "execution_count": null,
   "metadata": {
    "collapsed": false,
    "jupyter": {
     "outputs_hidden": false
    }
   },
   "outputs": [],
   "source": [
    "s1,s2 = b._splines\n",
    "t = s1.interval[1]\n",
    "dt = .2\n",
    "t1 = np.linspace(t-dt,t,200)\n",
    "t2 = np.linspace(t, t+dt, 200)\n",
    "v1,v2 = s1(t1), s2(t2)\n",
    "d1, d2 = np.diff(v1, axis=0), np.diff(v2,axis=0)\n",
    "dd1,dd2 = np.diff(d1, axis=0), np.diff(d2, axis=0)\n",
    "c = (2,0)\n",
    "plt.plot(dd1[:,c[0]], dd1[:,c[1]])\n",
    "plt.plot(dd2[:,c[0]], dd2[:,c[1]])\n",
    "plt.savefig('d2.pdf')"
   ]
  },
  {
   "cell_type": "markdown",
   "metadata": {},
   "source": [
    "## 3D Plots"
   ]
  },
  {
   "cell_type": "code",
   "execution_count": null,
   "metadata": {},
   "outputs": [],
   "source": [
    "%run plot_sphere.py"
   ]
  },
  {
   "cell_type": "code",
   "execution_count": null,
   "metadata": {},
   "outputs": [],
   "source": [
    "def plot3d(bspline):\n",
    "    for s in bspline:\n",
    "        l,r = s.interval\n",
    "        ts = np.linspace(l,r,200)\n",
    "        vals = s(ts)\n",
    "        plt.gca().plot(vals[:,0], vals[:,1], vals[:,2])"
   ]
  },
  {
   "cell_type": "code",
   "execution_count": null,
   "metadata": {
    "collapsed": false,
    "jupyter": {
     "outputs_hidden": false
    }
   },
   "outputs": [],
   "source": [
    "ax = plot_sphere()\n",
    "plot3d(b)\n",
    "cp = b.control_points\n",
    "ax.plot(cp[:,0],cp[:,1],cp[:,2],'o')\n",
    "ax.view_init(45,80)\n",
    "#plt.savefig('spline_sphere.pdf', bbox_inches='tight')"
   ]
  }
 ],
 "metadata": {
  "kernelspec": {
   "display_name": "Python 3",
   "language": "python",
   "name": "python3"
  },
  "language_info": {
   "codemirror_mode": {
    "name": "ipython",
    "version": 3
   },
   "file_extension": ".py",
   "mimetype": "text/x-python",
   "name": "python",
   "nbconvert_exporter": "python",
   "pygments_lexer": "ipython3",
   "version": "3.8.11"
  }
 },
 "nbformat": 4,
 "nbformat_minor": 4
}
