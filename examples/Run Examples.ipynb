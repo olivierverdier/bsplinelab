{
 "cells": [
  {
   "cell_type": "code",
   "execution_count": null,
   "id": "sapphire-present",
   "metadata": {},
   "outputs": [],
   "source": [
    "%matplotlib inline"
   ]
  },
  {
   "cell_type": "code",
   "execution_count": null,
   "id": "expressed-clear",
   "metadata": {},
   "outputs": [],
   "source": [
    "%run splinetestsphere.py"
   ]
  },
  {
   "cell_type": "code",
   "execution_count": null,
   "id": "d077a1a6-1b4f-4433-86d2-15869cf20c56",
   "metadata": {},
   "outputs": [],
   "source": [
    "plt.show()"
   ]
  },
  {
   "cell_type": "code",
   "execution_count": null,
   "id": "second-tennis",
   "metadata": {},
   "outputs": [],
   "source": [
    "%run implicitc2spline_Gr_demo.py"
   ]
  },
  {
   "cell_type": "code",
   "execution_count": null,
   "id": "6dabe365-652f-4107-9635-bd8b1883db61",
   "metadata": {},
   "outputs": [],
   "source": [
    "plt.show()"
   ]
  },
  {
   "cell_type": "code",
   "execution_count": null,
   "id": "first-system",
   "metadata": {},
   "outputs": [],
   "source": [
    "%run implicitc2spline_demo_cp.py"
   ]
  },
  {
   "cell_type": "code",
   "execution_count": null,
   "id": "f5a9e8a7-01c2-4c80-acc5-b1f2d6333a80",
   "metadata": {},
   "outputs": [],
   "source": [
    "plt.show()"
   ]
  },
  {
   "cell_type": "code",
   "execution_count": null,
   "id": "72684e58-8af2-494e-9b95-585d5eb1a548",
   "metadata": {},
   "outputs": [],
   "source": [
    "%run c2spline_demo.py"
   ]
  },
  {
   "cell_type": "code",
   "execution_count": null,
   "id": "b8b55659-e3f3-4be6-a693-26182b4065f4",
   "metadata": {},
   "outputs": [],
   "source": [
    "plt.show()"
   ]
  },
  {
   "cell_type": "code",
   "execution_count": null,
   "id": "c8a9dcb9-c16b-4452-baba-8e8bc7ff6418",
   "metadata": {},
   "outputs": [],
   "source": []
  }
 ],
 "metadata": {
  "kernelspec": {
   "display_name": "Python 3",
   "language": "python",
   "name": "python3"
  },
  "language_info": {
   "codemirror_mode": {
    "name": "ipython",
    "version": 3
   },
   "file_extension": ".py",
   "mimetype": "text/x-python",
   "name": "python",
   "nbconvert_exporter": "python",
   "pygments_lexer": "ipython3",
   "version": "3.8.11"
  }
 },
 "nbformat": 4,
 "nbformat_minor": 5
}
